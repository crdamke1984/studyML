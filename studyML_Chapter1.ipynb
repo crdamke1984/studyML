{
  "nbformat": 4,
  "nbformat_minor": 0,
  "metadata": {
    "colab": {
      "provenance": [],
      "authorship_tag": "ABX9TyOUf9rJpAqNms4cbXzLWnet",
      "include_colab_link": true
    },
    "kernelspec": {
      "name": "python3",
      "display_name": "Python 3"
    },
    "language_info": {
      "name": "python"
    }
  },
  "cells": [
    {
      "cell_type": "markdown",
      "metadata": {
        "id": "view-in-github",
        "colab_type": "text"
      },
      "source": [
        "<a href=\"https://colab.research.google.com/github/crdamke1984/studyML/blob/main/studyML_Chapter1.ipynb\" target=\"_parent\"><img src=\"https://colab.research.google.com/assets/colab-badge.svg\" alt=\"Open In Colab\"/></a>"
      ]
    },
    {
      "cell_type": "markdown",
      "source": [
        "# **Aprendizado de Máquina (Machine Learning)**\n",
        "> O que é o ML? \\\\\n",
        "> É a ciência da programação de computadores para que eles possam *aprender com os dados* (Aurélien Géron, 2019) \\\\\n",
        "---\n",
        "> *Conjuntos de Treinamentos* são os exemplos utilizados pelo sistema para o aprendizado\n",
        "---\n",
        "> *Instância de Treinamento (ou Amostra ou Exemplo)* é cada exemplo do conjunto de treiamento. É um objeto de interesse a ser observado.\n",
        "---\n",
        "> *Acurácia* é a medida de desempenho de uma dada tarefa\n",
        "---\n",
        "> **Aprendizado Supervisionado** -> Neste aprendizado, o algoritmo de ML recebe os exemplos pré-rotulados e tenta obter o melhor classificador $f: X ⟶ Y$ possível. Neste caso, é possível prever o rótulo, para exemplos invisíveis com precisão.\n",
        "---\n",
        ">**Aprendizado Não Supervisionado** -> Está associado ao processo de construção de modelos após análise de semelhanças entre os dados de entrada.\n",
        "\n",
        "\n",
        "\n",
        "\n",
        "\n",
        "\n",
        "\n",
        "\n",
        "\n",
        "\n"
      ],
      "metadata": {
        "id": "7cZZ9sKOJaCI"
      }
    },
    {
      "cell_type": "markdown",
      "source": [
        "## **Aprendizado Supervisionado**\n",
        ">Como abordado anteriormente, o objetivo do aprendizado supervisionado é obter o melhor classificador $f: X ⟶ Y$ possível para um dado problema. O algoritmo responsável por obter tal classificador é chamado de *algoritmo classificador*. Este classificador $f$ calcula para cada *exemplo* de entrada $x \\in X$ uma única classe $y\\in Y$. A pergunta é: 'Como buscar esse classificador?'"
      ],
      "metadata": {
        "id": "8jb3welyI92s"
      }
    },
    {
      "cell_type": "markdown",
      "source": [
        "### Exemplo\n",
        "> Considere um banco que recebe diversos pedidos para emissão de cartão de crédito. Essa emissão deve levar em conta diversos fatores (salário anual, anos de residência, empréstimos pendentes, etc) e tais informações devem estar em um banco de dados. Estes dados devem orientar a construção de uma fórmula que decidirá a emissão ou não de um cartão de crédito. Vamos para nomenclatura matemática: \\\\\n",
        "Seja $ x $ as informações do cliente, o aprendizado de máquina procura obter uma função, chamada de **função alvo** $$f: X ⟶ Y $$, que no exemplo é a fórmula ideal para aprovação do crédito, onde $ X$ é o conjunto (ou espaço) de todas as possíveis entradas $x$ e $Y$ é o conjunto (ou espaço) de todas as possíves saídas, no caso do exemplo, seria 'sim' ou 'não'. \\\\\n",
        "Considere um conjunto de dados (dataset ou *conjunto de treinamento*) $D =\\{ (x_1,y_1), (x_2,y_2), \\cdots , (x_n,y_n) \\}$, onde $ y_n = f(x_n)$, formado por clientes anteriores e as respectivas decisões de emissão de cartão de crédito. Cada exemplo de $D$ é uma *amostra ou instância de treinamento*.\\\\\n",
        "Logo, existe um algoritmo de aprendizagem que usa o conjunto de treinamento $D$ para escolher uma fórmula $g: X ⟶ Y$ que aproxima a função alvo $f$. \\\\\n",
        "O algoritmo de ML escolhe $g$ de um conjunto de funções candidatas à fórmula, que é denotado por *conjunto de hipóteses* $H$. Por exemplo, o conjuto de hipóteses $H$ poderia ser o conjunto de todas as funções lineares nas quais o algoritmo escolheria o melhor ajuste linear dos dados. \\\\\n",
        "Voltando ao exemplo do banco, quando um cliente fosse pedir um cartão de crédito ao banco, ele iria utilizar a função $g$ para a tomada de decisão e não a função alvo $f$ que é a função ideal e é desconhecida."
      ],
      "metadata": {
        "id": "y4dCmYyDI8LB"
      }
    },
    {
      "cell_type": "markdown",
      "source": [
        "### Exercício\n",
        "Especifique cada uma das seguintes tarefas na estrutura de dados a partir de dados, especificando o espaço de entrada $X$, o espaço de saída $Y$, a função alvo $f: X ⟶ Y$, e as especificidades do conjunto de dados no qual aprenderemos:\n",
        "*   Diagnóstico médico: Um paciente chega com um histórico médico e alguns sintomas e você quer identificar o problema;\n",
        "> $X =$ exames laboratoriais \\\\\n",
        "$Y=$ lista de possíveis doenças \\\\\n",
        "$f$ coleta uma amostra $x$ de $X$ e indica qual doença o paciente possui. \\\\\n",
        "As amostras do Conjunto de treinamento poderiam ser históricos médicos de pacientes que estão armazenados/arquivados.  \n",
        "*   Reconhecimento de dígitos manuscritos (reconhecimento de CEP)\n",
        "> $X = $ CEP manuscrito \\\\\n",
        "$Y=$ O endereço referente ao CEP \\\\\n",
        "\n",
        "\n"
      ],
      "metadata": {
        "id": "k0fWB7Ze2Idn"
      }
    },
    {
      "cell_type": "markdown",
      "source": [
        "## Um modelo simples de aprendizado\n",
        ">Dado um problema específico de aprendizagem, a função alvo e os dados de treinamento são informados pelo problema. Por outro lado, o algoritmo de aprendizagem e o conjunto de hipósteses não os são, e essas são as ferramentas que podemos escolher. O conjunto de hipóteses e o algoritmo de aprendizagem são chamados informalmente de *modelo de aprendizagem*.\n",
        "### O modelo\n",
        "> Sejam $X = \\mathbb{R}^d$ um espaço de entrada e o espaço de chegada $Y = \\{-1,+1\\}$ (sim ou não na decisão). Observe que $Y$ é um espaço binário. Nosso conjunto de hipóteses $H$ é formado por funcionais $h \\in H$ compartilhados. \\\\\n",
        "O funcional $h(x)$ que aqui escolhemos, dá pesos diferentes para as coordenadas $x=(x_1, \\cdots , x_d ) $ refletindo a sua importância na tomada de decisão (Recorde o exemplo do banco, as coordenadas de $x=(x_1, \\cdots , x_d ) $ são o salário, anos de residência, número de dívidas, etc. Estas coordenadas têm pesos diferentes no nosso modelo). As coordenadas ponderadas são combinadas para assim formar um *score de crédito* e o resultado é comparado com um valor limite. Se a aplicação limite passa o limite, então o crédito é aprovado, caso contrário é negado. Matemáticamente:\n",
        "*   Crédito aprovado se: $\\displaystyle  \\sum_{i=1}^{d} w_i x_i > L$\n",
        "*   Crédito reprovado se: $\\displaystyle  \\sum_{i=1}^{d} w_i x_i < L $ \\\\\n",
        ">onde $w_i$ são os pesos e $L$ o limite \\\\\n",
        "Podemos reescrever compactamente essa função como\n",
        "$$ h(x) = sign \\Bigg( \\Big(\\sum_{i=1}^{d} w_i x_i \\Big) +b \\Bigg)$$\n",
        "$$ h(x) = \\left\\{ \\begin{array}{rl}+1,& se \\,\\,\\, \\Big( \\sum_{i=1}^{d}w_i x_i \\Big) +b > 0 \\\\ -1, & se \\,\\,\\,  \\Big(\\sum_{i=1}^{d} w_i x_i \\Big) +b <0  \\end{array} \\right.$$  \n",
        "> onde $b=-L$ é chamado de tendência ou viés (bias). Este modelo do conjunto de hipóteses $H$ é conhecido como *perceptron* e está inserido no contexto da Inteligência Artificial. O algortimo de aprendizagem irá procurar em $H$ através dos pesos e tendências (viés) que funcionam bem no conjunto de dados. O valor do limite $L$ vai refletir o quão o banco é rigoroso na análise do crédito. A escolha ótima dos pesos e viés define a hipótese final $g \\in H$ que o algoritmo produz.\n",
        "\n",
        "\n"
      ],
      "metadata": {
        "id": "-qOuvbb-5dhh"
      }
    },
    {
      "cell_type": "markdown",
      "source": [],
      "metadata": {
        "id": "MW6Hi5V-DO5z"
      }
    },
    {
      "cell_type": "code",
      "execution_count": null,
      "metadata": {
        "id": "DPPkw0tYJPwD"
      },
      "outputs": [],
      "source": []
    }
  ]
}